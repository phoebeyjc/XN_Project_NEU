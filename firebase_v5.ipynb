{
 "cells": [
  {
   "cell_type": "markdown",
   "id": "06e576f6",
   "metadata": {},
   "source": [
    "## Set the admin SDK of firebase database"
   ]
  },
  {
   "cell_type": "code",
   "execution_count": 1,
   "id": "209c97bd",
   "metadata": {
    "scrolled": true
   },
   "outputs": [
    {
     "name": "stdout",
     "output_type": "stream",
     "text": [
      "Requirement already satisfied: firebase_admin in /Users/xusongjiu/opt/anaconda3/lib/python3.8/site-packages (5.2.0)\n",
      "Requirement already satisfied: google-api-python-client>=1.7.8 in /Users/xusongjiu/opt/anaconda3/lib/python3.8/site-packages (from firebase_admin) (2.57.0)\n",
      "Requirement already satisfied: google-cloud-storage>=1.37.1 in /Users/xusongjiu/opt/anaconda3/lib/python3.8/site-packages (from firebase_admin) (2.5.0)\n",
      "Requirement already satisfied: google-api-core[grpc]<3.0.0dev,>=1.22.1 in /Users/xusongjiu/opt/anaconda3/lib/python3.8/site-packages (from firebase_admin) (2.8.2)\n",
      "Requirement already satisfied: google-cloud-firestore>=2.1.0 in /Users/xusongjiu/opt/anaconda3/lib/python3.8/site-packages (from firebase_admin) (2.6.1)\n",
      "Requirement already satisfied: cachecontrol>=0.12.6 in /Users/xusongjiu/opt/anaconda3/lib/python3.8/site-packages (from firebase_admin) (0.12.11)\n",
      "Requirement already satisfied: msgpack>=0.5.2 in /Users/xusongjiu/opt/anaconda3/lib/python3.8/site-packages (from cachecontrol>=0.12.6->firebase_admin) (1.0.2)\n",
      "Requirement already satisfied: requests in /Users/xusongjiu/opt/anaconda3/lib/python3.8/site-packages (from cachecontrol>=0.12.6->firebase_admin) (2.28.1)\n",
      "Requirement already satisfied: google-auth<3.0dev,>=1.25.0 in /Users/xusongjiu/opt/anaconda3/lib/python3.8/site-packages (from google-api-core[grpc]<3.0.0dev,>=1.22.1->firebase_admin) (2.10.0)\n",
      "Requirement already satisfied: googleapis-common-protos<2.0dev,>=1.56.2 in /Users/xusongjiu/opt/anaconda3/lib/python3.8/site-packages (from google-api-core[grpc]<3.0.0dev,>=1.22.1->firebase_admin) (1.56.4)\n",
      "Requirement already satisfied: protobuf<5.0.0dev,>=3.15.0 in /Users/xusongjiu/opt/anaconda3/lib/python3.8/site-packages (from google-api-core[grpc]<3.0.0dev,>=1.22.1->firebase_admin) (4.21.5)\n",
      "Requirement already satisfied: grpcio-status<2.0dev,>=1.33.2 in /Users/xusongjiu/opt/anaconda3/lib/python3.8/site-packages (from google-api-core[grpc]<3.0.0dev,>=1.22.1->firebase_admin) (1.47.0)\n",
      "Requirement already satisfied: grpcio<2.0dev,>=1.33.2 in /Users/xusongjiu/opt/anaconda3/lib/python3.8/site-packages (from google-api-core[grpc]<3.0.0dev,>=1.22.1->firebase_admin) (1.47.0)\n",
      "Requirement already satisfied: httplib2<1dev,>=0.15.0 in /Users/xusongjiu/opt/anaconda3/lib/python3.8/site-packages (from google-api-python-client>=1.7.8->firebase_admin) (0.20.4)\n",
      "Requirement already satisfied: google-auth-httplib2>=0.1.0 in /Users/xusongjiu/opt/anaconda3/lib/python3.8/site-packages (from google-api-python-client>=1.7.8->firebase_admin) (0.1.0)\n",
      "Requirement already satisfied: uritemplate<5,>=3.0.1 in /Users/xusongjiu/opt/anaconda3/lib/python3.8/site-packages (from google-api-python-client>=1.7.8->firebase_admin) (4.1.1)\n",
      "Requirement already satisfied: google-cloud-core<3.0.0dev,>=1.4.1 in /Users/xusongjiu/opt/anaconda3/lib/python3.8/site-packages (from google-cloud-firestore>=2.1.0->firebase_admin) (2.3.2)\n",
      "Requirement already satisfied: proto-plus<2.0.0dev,>=1.22.0 in /Users/xusongjiu/opt/anaconda3/lib/python3.8/site-packages (from google-cloud-firestore>=2.1.0->firebase_admin) (1.22.0)\n",
      "Requirement already satisfied: google-resumable-media>=2.3.2 in /Users/xusongjiu/opt/anaconda3/lib/python3.8/site-packages (from google-cloud-storage>=1.37.1->firebase_admin) (2.3.3)\n",
      "Requirement already satisfied: six>=1.9.0 in /Users/xusongjiu/opt/anaconda3/lib/python3.8/site-packages (from google-auth<3.0dev,>=1.25.0->google-api-core[grpc]<3.0.0dev,>=1.22.1->firebase_admin) (1.15.0)\n",
      "Requirement already satisfied: rsa<5,>=3.1.4 in /Users/xusongjiu/opt/anaconda3/lib/python3.8/site-packages (from google-auth<3.0dev,>=1.25.0->google-api-core[grpc]<3.0.0dev,>=1.22.1->firebase_admin) (4.9)\n",
      "Requirement already satisfied: cachetools<6.0,>=2.0.0 in /Users/xusongjiu/opt/anaconda3/lib/python3.8/site-packages (from google-auth<3.0dev,>=1.25.0->google-api-core[grpc]<3.0.0dev,>=1.22.1->firebase_admin) (5.2.0)\n",
      "Requirement already satisfied: pyasn1-modules>=0.2.1 in /Users/xusongjiu/opt/anaconda3/lib/python3.8/site-packages (from google-auth<3.0dev,>=1.25.0->google-api-core[grpc]<3.0.0dev,>=1.22.1->firebase_admin) (0.2.8)\n",
      "Requirement already satisfied: google-crc32c<2.0dev,>=1.0 in /Users/xusongjiu/opt/anaconda3/lib/python3.8/site-packages (from google-resumable-media>=2.3.2->google-cloud-storage>=1.37.1->firebase_admin) (1.3.0)\n",
      "Requirement already satisfied: pyparsing!=3.0.0,!=3.0.1,!=3.0.2,!=3.0.3,<4,>=2.4.2 in /Users/xusongjiu/opt/anaconda3/lib/python3.8/site-packages (from httplib2<1dev,>=0.15.0->google-api-python-client>=1.7.8->firebase_admin) (2.4.7)\n",
      "Requirement already satisfied: urllib3<1.27,>=1.21.1 in /Users/xusongjiu/opt/anaconda3/lib/python3.8/site-packages (from requests->cachecontrol>=0.12.6->firebase_admin) (1.26.4)\n",
      "Requirement already satisfied: charset-normalizer<3,>=2 in /Users/xusongjiu/opt/anaconda3/lib/python3.8/site-packages (from requests->cachecontrol>=0.12.6->firebase_admin) (2.1.0)\n",
      "Requirement already satisfied: certifi>=2017.4.17 in /Users/xusongjiu/opt/anaconda3/lib/python3.8/site-packages (from requests->cachecontrol>=0.12.6->firebase_admin) (2020.12.5)\n",
      "Requirement already satisfied: idna<4,>=2.5 in /Users/xusongjiu/opt/anaconda3/lib/python3.8/site-packages (from requests->cachecontrol>=0.12.6->firebase_admin) (2.10)\n",
      "Requirement already satisfied: pyasn1<0.5.0,>=0.4.6 in /Users/xusongjiu/opt/anaconda3/lib/python3.8/site-packages (from pyasn1-modules>=0.2.1->google-auth<3.0dev,>=1.25.0->google-api-core[grpc]<3.0.0dev,>=1.22.1->firebase_admin) (0.4.8)\n",
      "Note: you may need to restart the kernel to use updated packages.\n"
     ]
    }
   ],
   "source": [
    "pip install firebase_admin"
   ]
  },
  {
   "cell_type": "code",
   "execution_count": 1,
   "id": "45bffbc7",
   "metadata": {},
   "outputs": [],
   "source": [
    "# Fetch the service account key JSON file contents\n",
    "import firebase_admin\n",
    "from firebase_admin import credentials"
   ]
  },
  {
   "cell_type": "code",
   "execution_count": 2,
   "id": "e0853b0f",
   "metadata": {},
   "outputs": [
    {
     "data": {
      "text/plain": [
       "<firebase_admin.App at 0x7fdfc8fc4ac0>"
      ]
     },
     "execution_count": 2,
     "metadata": {},
     "output_type": "execute_result"
    }
   ],
   "source": [
    "cred = credentials.Certificate(\"xn-nlp-firebase-adminsdk-fyr37-cdf67a6fcf.json\")\n",
    "firebase_admin.initialize_app(cred,{'databaseURL' : 'https://xn-nlp-default-rtdb.firebaseio.com/'})"
   ]
  },
  {
   "cell_type": "code",
   "execution_count": 3,
   "id": "fbef35d0",
   "metadata": {},
   "outputs": [
    {
     "data": {
      "text/plain": [
       "<firebase_admin.App at 0x7fdfc8fc4ac0>"
      ]
     },
     "execution_count": 3,
     "metadata": {},
     "output_type": "execute_result"
    }
   ],
   "source": [
    "firebase_admin.get_app()"
   ]
  },
  {
   "cell_type": "code",
   "execution_count": 4,
   "id": "a0dbebad",
   "metadata": {},
   "outputs": [],
   "source": [
    "from firebase_admin import db\n",
    "company=db.reference('Company')\n",
    "student=db.reference('Student')"
   ]
  },
  {
   "cell_type": "markdown",
   "id": "401b5326",
   "metadata": {},
   "source": [
    "## Queries"
   ]
  },
  {
   "cell_type": "code",
   "execution_count": 7,
   "id": "c3a3ef58",
   "metadata": {},
   "outputs": [
    {
     "name": "stdout",
     "output_type": "stream",
     "text": [
      "OrderedDict([('1', {'Address': 'aaa street', 'Company details': {'Industry': 'Computer', 'Products': 'haha'}, 'Company name': 'APPLE', 'Countries': 'US', 'Education level': 'PhD', 'Email': '123@gmail.com', 'Phone': 11111, 'Primary contact': 'e', 'Ratings': 8, 'Skills looking for': 'Python'})])\n"
     ]
    }
   ],
   "source": [
    "# List all companies that need python talent\n",
    "company_by_Skills = company.order_by_child(\"Skills looking for\").equal_to('Python').get()\n",
    "print(company_by_Skills)"
   ]
  },
  {
   "cell_type": "code",
   "execution_count": 8,
   "id": "a5f49643",
   "metadata": {},
   "outputs": [
    {
     "name": "stdout",
     "output_type": "stream",
     "text": [
      "OrderedDict([('3', {'Country': 'U.S.A', 'Email address': 'Sophia@gmail.com', 'Graduation Date': 2023, 'In college': True, 'Name': 'Sophia', 'Nexclap badge': '0', 'Preference': 'PWC', 'Qualification': 'Master', 'School Name': 'Northeastern University', 'Tags': 'Java', 'Weights': 'Java:30%, C:70%'})])\n"
     ]
    }
   ],
   "source": [
    "# List all students who know java\n",
    "student_by_tags = student.order_by_child(\"Tags\").equal_to('Java').get()\n",
    "print(student_by_tags)"
   ]
  },
  {
   "cell_type": "code",
   "execution_count": 9,
   "id": "a4fc7b4d",
   "metadata": {},
   "outputs": [
    {
     "name": "stdout",
     "output_type": "stream",
     "text": [
      "OrderedDict()\n"
     ]
    }
   ],
   "source": [
    "#sort student graduate at 2023\n",
    "student_2023=student.order_by_child('Graduation Date').equal_to('2023').get()\n",
    "print(student_2023)"
   ]
  },
  {
   "cell_type": "markdown",
   "id": "fafa8b31",
   "metadata": {},
   "source": [
    "    "
   ]
  },
  {
   "cell_type": "markdown",
   "id": "b0faa72c",
   "metadata": {},
   "source": [
    "   "
   ]
  },
  {
   "cell_type": "markdown",
   "id": "4d1e0e8b",
   "metadata": {},
   "source": [
    "## Function"
   ]
  },
  {
   "cell_type": "markdown",
   "id": "fec8fbb2",
   "metadata": {},
   "source": [
    "### For company"
   ]
  },
  {
   "cell_type": "code",
   "execution_count": 10,
   "id": "ae8b7fcd",
   "metadata": {},
   "outputs": [
    {
     "name": "stdout",
     "output_type": "stream",
     "text": [
      "OrderedDict([('3', {'Address': 'ccc street', 'Company details': {'Industry': 'Computer', 'Products': 'haha'}, 'Company name': 'PWC', 'Countries': 'US', 'Education level': 'Master', 'Email': '345@gmail.com', 'Phone': 33333, 'Primary contact': 'u', 'Ratings': 7, 'Skills looking for': 'Java'})])\n"
     ]
    }
   ],
   "source": [
    "#select all companies that looking for candidates who can use java\n",
    "company_need_java= company.order_by_child('Skills looking for').equal_to('Java').get()\n",
    "\n",
    "print(company_need_java)"
   ]
  },
  {
   "cell_type": "markdown",
   "id": "46fd6c2e",
   "metadata": {},
   "source": [
    "    "
   ]
  },
  {
   "cell_type": "code",
   "execution_count": 11,
   "id": "f2bd5cbf",
   "metadata": {},
   "outputs": [
    {
     "name": "stdout",
     "output_type": "stream",
     "text": [
      "PWC company is looking for candidates who can use Java\n"
     ]
    }
   ],
   "source": [
    "for b in company_need_java.items():\n",
    "    print('{0} company is looking for candidates who can use {1}'.format(b[1]['Company name'],b[1]['Skills looking for']))"
   ]
  },
  {
   "cell_type": "markdown",
   "id": "d2407ea6",
   "metadata": {},
   "source": [
    "    "
   ]
  },
  {
   "cell_type": "code",
   "execution_count": 12,
   "id": "c6d58f9a",
   "metadata": {},
   "outputs": [],
   "source": [
    "#select companies that is looking for PhD candidates\n",
    "company_need_Phd= company.order_by_child('Education level').equal_to('PhD').get()"
   ]
  },
  {
   "cell_type": "code",
   "execution_count": 13,
   "id": "09300d65",
   "metadata": {},
   "outputs": [
    {
     "name": "stdout",
     "output_type": "stream",
     "text": [
      "OrderedDict([('1', {'Address': 'aaa street', 'Company details': {'Industry': 'Computer', 'Products': 'haha'}, 'Company name': 'APPLE', 'Countries': 'US', 'Education level': 'PhD', 'Email': '123@gmail.com', 'Phone': 11111, 'Primary contact': 'e', 'Ratings': 8, 'Skills looking for': 'Python'}), ('2', {'Address': 'bbb street', 'Company details': {'Industry': 'Computer', 'Products': 'haha'}, 'Company name': 'Amazon', 'Countries': 'US', 'Education level': 'PhD', 'Email': 'amazon@gmail.com', 'Phone': 22222, 'Primary contact': 't', 'Ratings': 9, 'Skills looking for': 'C++'})])\n"
     ]
    }
   ],
   "source": [
    "print(company_need_Phd)"
   ]
  },
  {
   "cell_type": "markdown",
   "id": "cb8d704d",
   "metadata": {},
   "source": [
    "   "
   ]
  },
  {
   "cell_type": "code",
   "execution_count": 14,
   "id": "cb02722e",
   "metadata": {},
   "outputs": [
    {
     "name": "stdout",
     "output_type": "stream",
     "text": [
      "APPLE is looking for candidates who has a degree of PhD\n",
      "Amazon is looking for candidates who has a degree of PhD\n"
     ]
    }
   ],
   "source": [
    "for ss in company_need_Phd.items():\n",
    "    print('{0} is looking for candidates who has a degree of {1}'.format(ss[1]['Company name'],ss[1]['Education level']))"
   ]
  },
  {
   "cell_type": "markdown",
   "id": "eff5e186",
   "metadata": {},
   "source": [
    "      "
   ]
  },
  {
   "cell_type": "code",
   "execution_count": 50,
   "id": "fb27a112",
   "metadata": {},
   "outputs": [],
   "source": [
    "# Defind a function that company are searching for suitable candidates\n",
    "def find_student(company_id):\n",
    " \n",
    "    company_lookingfor = company.child(company_id).child('Skills looking for').get()\n",
    "    \n",
    "    match_student = student.order_by_child('Tags').equal_to(company_lookingfor).get()\n",
    "  \n",
    "    list = []\n",
    "    \n",
    "    for a in match_student.items():\n",
    "        list.append(a[1]['Name'])   \n",
    "\n",
    "    return list\n"
   ]
  },
  {
   "cell_type": "code",
   "execution_count": 51,
   "id": "44927a2e",
   "metadata": {},
   "outputs": [
    {
     "data": {
      "text/plain": [
       "['Lee', 'Paul']"
      ]
     },
     "execution_count": 51,
     "metadata": {},
     "output_type": "execute_result"
    }
   ],
   "source": [
    "# use company id to get suitable candidate\n",
    "find_student('1')"
   ]
  },
  {
   "cell_type": "markdown",
   "id": "323ce2e1",
   "metadata": {},
   "source": [
    "\n",
    "\n",
    "\n",
    "\n",
    "\n"
   ]
  },
  {
   "cell_type": "markdown",
   "id": "31966a06",
   "metadata": {},
   "source": [
    "### For student"
   ]
  },
  {
   "cell_type": "code",
   "execution_count": 15,
   "id": "1e41a60d",
   "metadata": {},
   "outputs": [
    {
     "name": "stdout",
     "output_type": "stream",
     "text": [
      "The student Linda is good at Go\n",
      "The student Sam is good at SQL\n",
      "The student Lee is good at Python\n",
      "The student Sophia is good at Java\n",
      "The student Paul is good at Python\n",
      "The student Lily is good at Spark\n"
     ]
    }
   ],
   "source": [
    "#select students' qualification\n",
    "student_all = student.get()\n",
    "for s in student_all:\n",
    "    print('The student {0} is good at {1}'.format(s['Name'], s['Tags']))"
   ]
  },
  {
   "cell_type": "markdown",
   "id": "c2ff44f9",
   "metadata": {},
   "source": [
    "    "
   ]
  },
  {
   "cell_type": "code",
   "execution_count": 16,
   "id": "504c5e73",
   "metadata": {},
   "outputs": [
    {
     "name": "stdout",
     "output_type": "stream",
     "text": [
      "Student Lee can use Python\n",
      "Student Paul can use Python\n"
     ]
    }
   ],
   "source": [
    "#sort all students who can use python\n",
    "student_python=student.order_by_child('Tags').equal_to('Python').get()\n",
    "for a in student_python.items():\n",
    "    print('Student {0} can use {1}'.format(a[1]['Name'],a[1]['Tags']))"
   ]
  },
  {
   "cell_type": "code",
   "execution_count": 17,
   "id": "b7e37068",
   "metadata": {},
   "outputs": [],
   "source": [
    "#select students who have master degree\n",
    "student_master=student.order_by_child('Qualification').equal_to('Master').get()"
   ]
  },
  {
   "cell_type": "code",
   "execution_count": 18,
   "id": "e589ee78",
   "metadata": {},
   "outputs": [
    {
     "name": "stdout",
     "output_type": "stream",
     "text": [
      "Lee have a degree of Master\n",
      "Sophia have a degree of Master\n",
      "Paul have a degree of Master\n",
      "Lily have a degree of Master\n"
     ]
    }
   ],
   "source": [
    "for s in student_master.items():\n",
    "    print('{0} have a degree of {1}'.format(s[1]['Name'],s[1]['Qualification']))"
   ]
  },
  {
   "cell_type": "markdown",
   "id": "99eb5029",
   "metadata": {},
   "source": [
    "    \n",
    "    "
   ]
  },
  {
   "cell_type": "code",
   "execution_count": 5,
   "id": "027231e4",
   "metadata": {},
   "outputs": [],
   "source": [
    "# Defind a matching function \n",
    "def find_company(student_id):\n",
    " \n",
    "    student_tags = student.child(student_id).child('Tags').get()\n",
    "    \n",
    "    match_company = company.order_by_child('Skills looking for').equal_to(student_tags).get()\n",
    "  \n",
    "    list = []\n",
    "    \n",
    "    for a in match_company.items():\n",
    "        list.append(a[1]['Company Name'])   \n",
    "\n",
    "    return list\n"
   ]
  },
  {
   "cell_type": "code",
   "execution_count": 6,
   "id": "a43f4ad1",
   "metadata": {},
   "outputs": [
    {
     "data": {
      "text/plain": [
       "['Facebook']"
      ]
     },
     "execution_count": 6,
     "metadata": {},
     "output_type": "execute_result"
    }
   ],
   "source": [
    "#use student id to find matched company\n",
    "find_company('0')"
   ]
  },
  {
   "cell_type": "code",
   "execution_count": null,
   "id": "daaa07bf",
   "metadata": {},
   "outputs": [],
   "source": [
    "find_company('1')"
   ]
  },
  {
   "cell_type": "markdown",
   "id": "a78fe5b5",
   "metadata": {},
   "source": [
    "     \n",
    "     \n",
    "     \n",
    "     "
   ]
  },
  {
   "cell_type": "markdown",
   "id": "5570c1a2",
   "metadata": {},
   "source": [
    "    \n",
    "    "
   ]
  },
  {
   "cell_type": "markdown",
   "id": "f5f5c1ff",
   "metadata": {},
   "source": [
    "   "
   ]
  }
 ],
 "metadata": {
  "kernelspec": {
   "display_name": "Python 3 (ipykernel)",
   "language": "python",
   "name": "python3"
  },
  "language_info": {
   "codemirror_mode": {
    "name": "ipython",
    "version": 3
   },
   "file_extension": ".py",
   "mimetype": "text/x-python",
   "name": "python",
   "nbconvert_exporter": "python",
   "pygments_lexer": "ipython3",
   "version": "3.9.7"
  }
 },
 "nbformat": 4,
 "nbformat_minor": 5
}
